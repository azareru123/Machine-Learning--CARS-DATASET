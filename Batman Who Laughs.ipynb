{
 "cells": [
  {
   "cell_type": "markdown",
   "id": "07423a01",
   "metadata": {},
   "source": [
    "# Batman Who Laughs\n",
    " Nama Anggota :\n",
    "* 1119004 - Calvin Jeremy\n",
    "* 1119009 - Julian Ely K\n",
    "* 1119015 - Valentinus Thiomarsel\n",
    "* 1119025 - Azareel Fausan\n",
    "* 1119028 - Aji Parama\n",
    "* 1119047 - Andreas Jumaga"
   ]
  },
  {
   "cell_type": "code",
   "execution_count": 1,
   "id": "7184b76f",
   "metadata": {},
   "outputs": [],
   "source": [
    "### Import\n",
    "import pandas as pd \n",
    "import numpy as np\n",
    "import matplotlib.pyplot as plt\n",
    "import seaborn as sns\n",
    "import scipy.stats as stats\n",
    "sns.set()"
   ]
  },
  {
   "cell_type": "code",
   "execution_count": 2,
   "id": "f794e6f3",
   "metadata": {},
   "outputs": [],
   "source": [
    "car_raw = pd.read_csv(\"cars_dataset.csv\")"
   ]
  },
  {
   "cell_type": "code",
   "execution_count": 3,
   "id": "91572980",
   "metadata": {},
   "outputs": [
    {
     "name": "stdout",
     "output_type": "stream",
     "text": [
      "data-frame shape:  (72435, 10)\n"
     ]
    }
   ],
   "source": [
    "print(\"data-frame shape: \", car_raw.shape)"
   ]
  },
  {
   "cell_type": "code",
   "execution_count": 4,
   "id": "6fafaca8",
   "metadata": {},
   "outputs": [
    {
     "name": "stdout",
     "output_type": "stream",
     "text": [
      "column names:  ['model' 'year' 'price' 'transmission' 'mileage' 'fuelType' 'tax' 'mpg'\n",
      " 'engineSize' 'Make']\n"
     ]
    }
   ],
   "source": [
    "print (\"column names: \", car_raw.columns.values)"
   ]
  },
  {
   "cell_type": "code",
   "execution_count": 5,
   "id": "b2040d12",
   "metadata": {
    "scrolled": true
   },
   "outputs": [],
   "source": [
    "#from pandas_profiling import ProfileReport\n",
    "#prof = ProfileReport(car_raw)\n",
    "#prof.to_file(output_file='Eksplore.html')"
   ]
  },
  {
   "cell_type": "markdown",
   "id": "52258e60",
   "metadata": {},
   "source": [
    "# Data Cleaning"
   ]
  },
  {
   "cell_type": "markdown",
   "id": "1c83ee27",
   "metadata": {},
   "source": [
    "Pada tahap ini, kita akan memeriksa data yang bernilai null, data duplikat, dan outliers"
   ]
  },
  {
   "cell_type": "markdown",
   "id": "715c951f",
   "metadata": {},
   "source": [
    "### null data"
   ]
  },
  {
   "cell_type": "markdown",
   "id": "437062b3",
   "metadata": {},
   "source": [
    "Melakukan pembersihan data yang bernilai null"
   ]
  },
  {
   "cell_type": "code",
   "execution_count": 6,
   "id": "d877bcb2",
   "metadata": {
    "scrolled": false
   },
   "outputs": [
    {
     "name": "stdout",
     "output_type": "stream",
     "text": [
      "null values: \n",
      "\n",
      "       model   year  price  transmission  mileage  fuelType    tax    mpg  \\\n",
      "0      False  False  False         False    False     False  False  False   \n",
      "1      False  False  False         False    False     False  False  False   \n",
      "2      False  False  False         False    False     False  False  False   \n",
      "3      False  False  False         False    False     False  False  False   \n",
      "4      False  False  False         False    False     False  False  False   \n",
      "...      ...    ...    ...           ...      ...       ...    ...    ...   \n",
      "72430  False  False  False         False    False     False  False  False   \n",
      "72431  False  False  False         False    False     False  False  False   \n",
      "72432  False  False  False         False    False     False  False  False   \n",
      "72433  False  False  False         False    False     False  False  False   \n",
      "72434  False  False  False         False    False     False  False  False   \n",
      "\n",
      "       engineSize   Make  \n",
      "0           False  False  \n",
      "1           False  False  \n",
      "2           False  False  \n",
      "3           False  False  \n",
      "4           False  False  \n",
      "...           ...    ...  \n",
      "72430       False  False  \n",
      "72431       False  False  \n",
      "72432       False  False  \n",
      "72433       False  False  \n",
      "72434       False  False  \n",
      "\n",
      "[72435 rows x 10 columns]\n"
     ]
    }
   ],
   "source": [
    "print(\"null values: \\n\"),\n",
    "print(car_raw.isna())"
   ]
  },
  {
   "cell_type": "code",
   "execution_count": 7,
   "id": "c9f909c6",
   "metadata": {
    "scrolled": true
   },
   "outputs": [
    {
     "name": "stdout",
     "output_type": "stream",
     "text": [
      "model           0\n",
      "year            0\n",
      "price           0\n",
      "transmission    0\n",
      "mileage         0\n",
      "fuelType        0\n",
      "tax             0\n",
      "mpg             0\n",
      "engineSize      0\n",
      "Make            0\n",
      "dtype: int64\n"
     ]
    }
   ],
   "source": [
    "print(car_raw.isna().sum())"
   ]
  },
  {
   "cell_type": "code",
   "execution_count": 8,
   "id": "fd4d8c5d",
   "metadata": {
    "scrolled": true
   },
   "outputs": [
    {
     "name": "stdout",
     "output_type": "stream",
     "text": [
      "total null values:  0\n"
     ]
    }
   ],
   "source": [
    "print(\"total null values: \", car_raw.isna().sum().sum())"
   ]
  },
  {
   "cell_type": "markdown",
   "id": "4cf3a3d0",
   "metadata": {},
   "source": [
    "Setelah dicek, jumlah null values adalah 0, sehingga tidak perlu melakukan pembersihan data null"
   ]
  },
  {
   "cell_type": "markdown",
   "id": "16737c0a",
   "metadata": {},
   "source": [
    "### Duplicate data"
   ]
  },
  {
   "cell_type": "markdown",
   "id": "a37a8b92",
   "metadata": {},
   "source": [
    "Pada bagian ini kita akan membersikan bagian data yang terduplikasi"
   ]
  },
  {
   "cell_type": "code",
   "execution_count": 9,
   "id": "9d8b1724",
   "metadata": {
    "scrolled": true
   },
   "outputs": [
    {
     "name": "stdout",
     "output_type": "stream",
     "text": [
      "number of duplicate rows:  (842, 10)\n"
     ]
    }
   ],
   "source": [
    "duplicate_rows_df = car_raw[car_raw.duplicated()]\n",
    "print(\"number of duplicate rows: \", duplicate_rows_df.shape)"
   ]
  },
  {
   "cell_type": "markdown",
   "id": "dde7ea4c",
   "metadata": {},
   "source": [
    "Dapat kita lihat bahwa jumlah data yang terduplikat adalah 842"
   ]
  },
  {
   "cell_type": "code",
   "execution_count": 10,
   "id": "51ed9f58",
   "metadata": {
    "scrolled": true
   },
   "outputs": [
    {
     "name": "stdout",
     "output_type": "stream",
     "text": [
      "shape of dataframe after dropping duplicates (71593, 10)\n"
     ]
    }
   ],
   "source": [
    "car_no_dupl = car_raw.drop_duplicates()\n",
    "print (\"shape of dataframe after dropping duplicates\", car_no_dupl.shape)"
   ]
  },
  {
   "cell_type": "markdown",
   "id": "1f45ab7c",
   "metadata": {},
   "source": [
    "Kita drop yang kemudian jumlah keseluruhan data menjadi 71593"
   ]
  },
  {
   "cell_type": "code",
   "execution_count": 11,
   "id": "bde071b4",
   "metadata": {},
   "outputs": [
    {
     "data": {
      "text/html": [
       "<div>\n",
       "<style scoped>\n",
       "    .dataframe tbody tr th:only-of-type {\n",
       "        vertical-align: middle;\n",
       "    }\n",
       "\n",
       "    .dataframe tbody tr th {\n",
       "        vertical-align: top;\n",
       "    }\n",
       "\n",
       "    .dataframe thead th {\n",
       "        text-align: right;\n",
       "    }\n",
       "</style>\n",
       "<table border=\"1\" class=\"dataframe\">\n",
       "  <thead>\n",
       "    <tr style=\"text-align: right;\">\n",
       "      <th></th>\n",
       "      <th>model</th>\n",
       "      <th>year</th>\n",
       "      <th>price</th>\n",
       "      <th>transmission</th>\n",
       "      <th>mileage</th>\n",
       "      <th>fuelType</th>\n",
       "      <th>tax</th>\n",
       "      <th>mpg</th>\n",
       "      <th>engineSize</th>\n",
       "      <th>Make</th>\n",
       "    </tr>\n",
       "  </thead>\n",
       "  <tbody>\n",
       "    <tr>\n",
       "      <th>count</th>\n",
       "      <td>71593</td>\n",
       "      <td>71593.000000</td>\n",
       "      <td>71593.000000</td>\n",
       "      <td>71593</td>\n",
       "      <td>71593.000000</td>\n",
       "      <td>71593</td>\n",
       "      <td>71593.000000</td>\n",
       "      <td>71593.000000</td>\n",
       "      <td>71593.000000</td>\n",
       "      <td>71593</td>\n",
       "    </tr>\n",
       "    <tr>\n",
       "      <th>unique</th>\n",
       "      <td>146</td>\n",
       "      <td>NaN</td>\n",
       "      <td>NaN</td>\n",
       "      <td>4</td>\n",
       "      <td>NaN</td>\n",
       "      <td>5</td>\n",
       "      <td>NaN</td>\n",
       "      <td>NaN</td>\n",
       "      <td>NaN</td>\n",
       "      <td>7</td>\n",
       "    </tr>\n",
       "    <tr>\n",
       "      <th>top</th>\n",
       "      <td>Fiesta</td>\n",
       "      <td>NaN</td>\n",
       "      <td>NaN</td>\n",
       "      <td>Manual</td>\n",
       "      <td>NaN</td>\n",
       "      <td>Petrol</td>\n",
       "      <td>NaN</td>\n",
       "      <td>NaN</td>\n",
       "      <td>NaN</td>\n",
       "      <td>Ford</td>\n",
       "    </tr>\n",
       "    <tr>\n",
       "      <th>freq</th>\n",
       "      <td>6508</td>\n",
       "      <td>NaN</td>\n",
       "      <td>NaN</td>\n",
       "      <td>42472</td>\n",
       "      <td>NaN</td>\n",
       "      <td>39844</td>\n",
       "      <td>NaN</td>\n",
       "      <td>NaN</td>\n",
       "      <td>NaN</td>\n",
       "      <td>17810</td>\n",
       "    </tr>\n",
       "    <tr>\n",
       "      <th>mean</th>\n",
       "      <td>NaN</td>\n",
       "      <td>2017.061500</td>\n",
       "      <td>16557.395625</td>\n",
       "      <td>NaN</td>\n",
       "      <td>23270.376084</td>\n",
       "      <td>NaN</td>\n",
       "      <td>116.859819</td>\n",
       "      <td>55.891774</td>\n",
       "      <td>1.636571</td>\n",
       "      <td>NaN</td>\n",
       "    </tr>\n",
       "    <tr>\n",
       "      <th>std</th>\n",
       "      <td>NaN</td>\n",
       "      <td>2.102418</td>\n",
       "      <td>9295.483474</td>\n",
       "      <td>NaN</td>\n",
       "      <td>21268.084737</td>\n",
       "      <td>NaN</td>\n",
       "      <td>64.169175</td>\n",
       "      <td>17.153909</td>\n",
       "      <td>0.562012</td>\n",
       "      <td>NaN</td>\n",
       "    </tr>\n",
       "    <tr>\n",
       "      <th>min</th>\n",
       "      <td>NaN</td>\n",
       "      <td>1996.000000</td>\n",
       "      <td>495.000000</td>\n",
       "      <td>NaN</td>\n",
       "      <td>1.000000</td>\n",
       "      <td>NaN</td>\n",
       "      <td>0.000000</td>\n",
       "      <td>0.300000</td>\n",
       "      <td>0.000000</td>\n",
       "      <td>NaN</td>\n",
       "    </tr>\n",
       "    <tr>\n",
       "      <th>25%</th>\n",
       "      <td>NaN</td>\n",
       "      <td>2016.000000</td>\n",
       "      <td>10160.000000</td>\n",
       "      <td>NaN</td>\n",
       "      <td>7373.000000</td>\n",
       "      <td>NaN</td>\n",
       "      <td>30.000000</td>\n",
       "      <td>47.900000</td>\n",
       "      <td>1.200000</td>\n",
       "      <td>NaN</td>\n",
       "    </tr>\n",
       "    <tr>\n",
       "      <th>50%</th>\n",
       "      <td>NaN</td>\n",
       "      <td>2017.000000</td>\n",
       "      <td>14490.000000</td>\n",
       "      <td>NaN</td>\n",
       "      <td>17689.000000</td>\n",
       "      <td>NaN</td>\n",
       "      <td>145.000000</td>\n",
       "      <td>55.400000</td>\n",
       "      <td>1.600000</td>\n",
       "      <td>NaN</td>\n",
       "    </tr>\n",
       "    <tr>\n",
       "      <th>75%</th>\n",
       "      <td>NaN</td>\n",
       "      <td>2019.000000</td>\n",
       "      <td>20192.000000</td>\n",
       "      <td>NaN</td>\n",
       "      <td>32548.000000</td>\n",
       "      <td>NaN</td>\n",
       "      <td>145.000000</td>\n",
       "      <td>62.800000</td>\n",
       "      <td>2.000000</td>\n",
       "      <td>NaN</td>\n",
       "    </tr>\n",
       "    <tr>\n",
       "      <th>max</th>\n",
       "      <td>NaN</td>\n",
       "      <td>2020.000000</td>\n",
       "      <td>145000.000000</td>\n",
       "      <td>NaN</td>\n",
       "      <td>323000.000000</td>\n",
       "      <td>NaN</td>\n",
       "      <td>580.000000</td>\n",
       "      <td>470.800000</td>\n",
       "      <td>6.600000</td>\n",
       "      <td>NaN</td>\n",
       "    </tr>\n",
       "  </tbody>\n",
       "</table>\n",
       "</div>"
      ],
      "text/plain": [
       "          model          year          price transmission        mileage  \\\n",
       "count     71593  71593.000000   71593.000000        71593   71593.000000   \n",
       "unique      146           NaN            NaN            4            NaN   \n",
       "top      Fiesta           NaN            NaN       Manual            NaN   \n",
       "freq       6508           NaN            NaN        42472            NaN   \n",
       "mean        NaN   2017.061500   16557.395625          NaN   23270.376084   \n",
       "std         NaN      2.102418    9295.483474          NaN   21268.084737   \n",
       "min         NaN   1996.000000     495.000000          NaN       1.000000   \n",
       "25%         NaN   2016.000000   10160.000000          NaN    7373.000000   \n",
       "50%         NaN   2017.000000   14490.000000          NaN   17689.000000   \n",
       "75%         NaN   2019.000000   20192.000000          NaN   32548.000000   \n",
       "max         NaN   2020.000000  145000.000000          NaN  323000.000000   \n",
       "\n",
       "       fuelType           tax           mpg    engineSize   Make  \n",
       "count     71593  71593.000000  71593.000000  71593.000000  71593  \n",
       "unique        5           NaN           NaN           NaN      7  \n",
       "top      Petrol           NaN           NaN           NaN   Ford  \n",
       "freq      39844           NaN           NaN           NaN  17810  \n",
       "mean        NaN    116.859819     55.891774      1.636571    NaN  \n",
       "std         NaN     64.169175     17.153909      0.562012    NaN  \n",
       "min         NaN      0.000000      0.300000      0.000000    NaN  \n",
       "25%         NaN     30.000000     47.900000      1.200000    NaN  \n",
       "50%         NaN    145.000000     55.400000      1.600000    NaN  \n",
       "75%         NaN    145.000000     62.800000      2.000000    NaN  \n",
       "max         NaN    580.000000    470.800000      6.600000    NaN  "
      ]
     },
     "execution_count": 11,
     "metadata": {},
     "output_type": "execute_result"
    }
   ],
   "source": [
    "car_no_dupl.describe(include='all')"
   ]
  },
  {
   "cell_type": "markdown",
   "id": "8a90d9ff",
   "metadata": {},
   "source": [
    "### Outliers"
   ]
  },
  {
   "cell_type": "markdown",
   "id": "b5f26ebd",
   "metadata": {},
   "source": [
    "Pada bagian ini kita mengecek satu per satu outliers untuk setiap variable numerikal"
   ]
  },
  {
   "cell_type": "markdown",
   "id": "e4bf6859",
   "metadata": {},
   "source": [
    "#### Outliers on Year"
   ]
  },
  {
   "cell_type": "code",
   "execution_count": 12,
   "id": "ed0453b4",
   "metadata": {},
   "outputs": [
    {
     "data": {
      "image/png": "[encoded data removed]",
      "text/plain": [
       "<Figure size 432x288 with 1 Axes>"
      ]
     },
     "metadata": {},
     "output_type": "display_data"
    }
   ],
   "source": [
    "sns.boxplot(x=car_no_dupl['year'], color='lime')\n",
    "plt.xlabel('year', fontsize=14)\n",
    "plt.show()"
   ]
  },
  {
   "cell_type": "markdown",
   "id": "7e9142c7",
   "metadata": {},
   "source": [
    "Insight: Ditemukan outliers pada tahun 2010 kebawah. Kebanyakan mobil dalam data adalah mobil keluaran tahun 2016-2019, sehingga kebanyakan mobil tidak terbilang baru atau lama"
   ]
  },
  {
   "cell_type": "markdown",
   "id": "4e6a883e",
   "metadata": {},
   "source": [
    "#### Outliers on Price"
   ]
  },
  {
   "cell_type": "code",
   "execution_count": 13,
   "id": "a7d85311",
   "metadata": {},
   "outputs": [
    {
     "data": {
      "image/png": "[encoded data removed]",
      "text/plain": [
       "<Figure size 432x288 with 1 Axes>"
      ]
     },
     "metadata": {},
     "output_type": "display_data"
    }
   ],
   "source": [
    "sns.boxplot(x=car_no_dupl['price'], color='lime')\n",
    "plt.xlabel('price', fontsize=14)\n",
    "plt.show()"
   ]
  },
  {
   "cell_type": "markdown",
   "id": "77edb2b8",
   "metadata": {},
   "source": [
    "Insight: Pada variable price, banyak sekali outliers di atas 40000. Sebesar 75% data mobil memiliki harga dibawah 20000, setengah dari nilai outliers terkecil"
   ]
  },
  {
   "cell_type": "markdown",
   "id": "7c14da64",
   "metadata": {},
   "source": [
    "#### Outliers on mileage"
   ]
  },
  {
   "cell_type": "code",
   "execution_count": 14,
   "id": "5264c0c0",
   "metadata": {},
   "outputs": [
    {
     "data": {
      "image/png": "[encoded data removed]",
      "text/plain": [
       "<Figure size 432x288 with 1 Axes>"
      ]
     },
     "metadata": {},
     "output_type": "display_data"
    }
   ],
   "source": [
    "sns.boxplot(x=car_no_dupl['mileage'], color='lime')\n",
    "plt.xlabel('mileage', fontsize=14)\n",
    "plt.show()"
   ]
  },
  {
   "cell_type": "markdown",
   "id": "ca470a2c",
   "metadata": {},
   "source": [
    "Insight: Persebaran outliers dilihat pada nilai di atas 75000. Jarak yang telah dilalui oleh kebanyakan mobil ada di bawah 50000 mil, kemungkinan mobil jarang digunakan atau termasuk baru."
   ]
  },
  {
   "cell_type": "markdown",
   "id": "5750a9dc",
   "metadata": {},
   "source": [
    "#### Outliers on tax\n"
   ]
  },
  {
   "cell_type": "code",
   "execution_count": 15,
   "id": "e962b66e",
   "metadata": {},
   "outputs": [
    {
     "data": {
      "image/png": "[encoded data removed]",
      "text/plain": [
       "<Figure size 432x288 with 1 Axes>"
      ]
     },
     "metadata": {},
     "output_type": "display_data"
    }
   ],
   "source": [
    "sns.boxplot(x=car_no_dupl['tax'], color='lime')\n",
    "plt.xlabel('tax', fontsize=14)\n",
    "plt.show()"
   ]
  },
  {
   "cell_type": "markdown",
   "id": "fc5b6ab2",
   "metadata": {},
   "source": [
    "Insight: Outliers pada tax ditemukan paling banyak pada range 500-600 dan ditemukan sedikit pada sekitaran 300. Kebanyakan mobil memiliki tax di bawah 150, kemungkinan kebanyakan mobil bukan mobil import."
   ]
  },
  {
   "cell_type": "markdown",
   "id": "f4b30743",
   "metadata": {},
   "source": [
    "#### Outliers MPG"
   ]
  },
  {
   "cell_type": "code",
   "execution_count": 16,
   "id": "4f54bc9f",
   "metadata": {},
   "outputs": [
    {
     "data": {
      "image/png": "[encoded data removed]",
      "text/plain": [
       "<Figure size 432x288 with 1 Axes>"
      ]
     },
     "metadata": {},
     "output_type": "display_data"
    }
   ],
   "source": [
    "sns.boxplot(x=car_no_dupl['mpg'], color='lime')\n",
    "plt.xlabel('mpg', fontsize=14)\n",
    "plt.show()"
   ]
  },
  {
   "cell_type": "markdown",
   "id": "fb4c05eb",
   "metadata": {},
   "source": [
    "Insight: Ditemukan outliers atas dan bawah, yang dimana outliers atas dengan range sekitar 100-300 dan sedikit ditemukan pada range di atas 400, outliers bawah pada range data >0 dan <100. Kebanyakan mobil memiliki kapasitas bahan bakar yang cukup rendah, yang mana 1 galon bahan bakar, kebanyakan mobil dapat menempuh sekitar 60 mil"
   ]
  },
  {
   "cell_type": "markdown",
   "id": "fb138da0",
   "metadata": {},
   "source": [
    "#### Outliers Engine Size"
   ]
  },
  {
   "cell_type": "code",
   "execution_count": 17,
   "id": "dcae5483",
   "metadata": {},
   "outputs": [
    {
     "data": {
      "image/png": "[encoded data removed]",
      "text/plain": [
       "<Figure size 432x288 with 1 Axes>"
      ]
     },
     "metadata": {},
     "output_type": "display_data"
    }
   ],
   "source": [
    "sns.boxplot(x=car_no_dupl['engineSize'], color='lime')\n",
    "plt.xlabel('engineSize', fontsize=14)\n",
    "plt.show()"
   ]
  },
  {
   "cell_type": "markdown",
   "id": "3de34a11",
   "metadata": {},
   "source": [
    "Insight: Outliers pada engine size berkisar pada range sekitar 4-6. Ukuran mesin kebanyakan mobil ada di antara 1-2"
   ]
  },
  {
   "cell_type": "code",
   "execution_count": 18,
   "id": "a99d02a5",
   "metadata": {
    "scrolled": true
   },
   "outputs": [
    {
     "name": "stdout",
     "output_type": "stream",
     "text": [
      "model            object\n",
      "year              int64\n",
      "price             int64\n",
      "transmission     object\n",
      "mileage           int64\n",
      "fuelType         object\n",
      "tax             float64\n",
      "mpg             float64\n",
      "engineSize      float64\n",
      "Make             object\n",
      "dtype: object\n"
     ]
    }
   ],
   "source": [
    "print(car_no_dupl.dtypes)"
   ]
  },
  {
   "cell_type": "code",
   "execution_count": 19,
   "id": "d9408ec3",
   "metadata": {},
   "outputs": [
    {
     "name": "stdout",
     "output_type": "stream",
     "text": [
      "shape after excluding object columns:  (71593, 6)\n"
     ]
    }
   ],
   "source": [
    "car_no_dupl_num = car_no_dupl.select_dtypes(exclude=['object'])\n",
    "print(\"shape after excluding object columns: \", car_no_dupl_num.shape)"
   ]
  },
  {
   "cell_type": "code",
   "execution_count": 20,
   "id": "2b3816e1",
   "metadata": {},
   "outputs": [
    {
     "name": "stdout",
     "output_type": "stream",
     "text": [
      "shape after rejecting outliers:  (67982, 6)\n"
     ]
    }
   ],
   "source": [
    "car_Zscore = car_no_dupl_num[(np.abs(stats.zscore(car_no_dupl_num))<3).all(axis=1)]\n",
    "print(\"shape after rejecting outliers: \", car_Zscore.shape)"
   ]
  },
  {
   "cell_type": "markdown",
   "id": "0555ccbf",
   "metadata": {},
   "source": [
    "Setelah menrejecting outliers maka mendpaatkan jumlah data sebagai berikut seperti diatas"
   ]
  },
  {
   "cell_type": "markdown",
   "id": "b86818e3",
   "metadata": {},
   "source": [
    "### After using Z - Score"
   ]
  },
  {
   "cell_type": "markdown",
   "id": "8e016bc3",
   "metadata": {},
   "source": [
    "#### Data Year"
   ]
  },
  {
   "cell_type": "code",
   "execution_count": 21,
   "id": "aae4cb03",
   "metadata": {},
   "outputs": [
    {
     "data": {
      "image/png": "[encoded data removed]",
      "text/plain": [
       "<Figure size 432x288 with 1 Axes>"
      ]
     },
     "metadata": {},
     "output_type": "display_data"
    }
   ],
   "source": [
    "sns.boxplot(x=car_Zscore['year'], color='lime')\n",
    "plt.xlabel('year (After Using Z Score)', fontsize=14)\n",
    "plt.show()"
   ]
  },
  {
   "cell_type": "markdown",
   "id": "ad2e83ca",
   "metadata": {},
   "source": [
    "Insight: Dapat kita bandingkan antara persebaran data outliers untuk variable years sebelum dan sesudah yaitu, pada bagian sesudah masih terdapat outliers namun jumlahnya berkurang secara signifikan sehingga kita hanya menggunakan mobil dari tahun 2011-2020. Kebanyakan mobil diproduksi pada tahun 2010 ke atas karena semakin cepat perkembangan teknologi yang menunjang produksi mobil dan dengan naiknya kebutuhan akan alat transportasi di dunia."
   ]
  },
  {
   "cell_type": "markdown",
   "id": "5443e40a",
   "metadata": {},
   "source": [
    "#### Data Price"
   ]
  },
  {
   "cell_type": "code",
   "execution_count": 22,
   "id": "7817af25",
   "metadata": {},
   "outputs": [
    {
     "data": {
      "image/png": "[encoded data removed]",
      "text/plain": [
       "<Figure size 432x288 with 1 Axes>"
      ]
     },
     "metadata": {},
     "output_type": "display_data"
    }
   ],
   "source": [
    "sns.boxplot(x=car_Zscore['price'], color='lime')\n",
    "plt.xlabel('price (After Using Z Score)', fontsize=14)\n",
    "plt.show()"
   ]
  },
  {
   "cell_type": "markdown",
   "id": "128f00fc",
   "metadata": {},
   "source": [
    "Insight: Data price sebelum dan sesudah mengalami perubahan dari persebaran dan jumlahnya sehingga hanya menggunakan data mobil yang harganya di bawah 45000. Kebanyakan masyarakat menggunakan city cars yang lebih irit bahan bakar dengan harga yang lebih terjangkau. Kemungkinan untuk outliersnya yang telah dihapus terdiri dari mobil-mobil dengan model supercar dan support car."
   ]
  },
  {
   "cell_type": "markdown",
   "id": "d177bde0",
   "metadata": {},
   "source": [
    "#### Data Mileage"
   ]
  },
  {
   "cell_type": "code",
   "execution_count": 23,
   "id": "0ddf5511",
   "metadata": {},
   "outputs": [
    {
     "data": {
      "image/png": "[encoded data removed]",
      "text/plain": [
       "<Figure size 432x288 with 1 Axes>"
      ]
     },
     "metadata": {},
     "output_type": "display_data"
    }
   ],
   "source": [
    "sns.boxplot(x=car_Zscore['mileage'], color='lime')\n",
    "plt.xlabel('mileage (After Using Z Score)', fontsize=14)\n",
    "plt.show()"
   ]
  },
  {
   "cell_type": "markdown",
   "id": "00a466c2",
   "metadata": {},
   "source": [
    "Insight: Dengan melakukan data cleaning terhadap outliers, bisa kita lihat bahwa kisaran jarak tempuh mobil berada di nilai 0 sampai sekitar 90000."
   ]
  },
  {
   "cell_type": "markdown",
   "id": "d8646c1a",
   "metadata": {},
   "source": [
    "#### Data tax"
   ]
  },
  {
   "cell_type": "code",
   "execution_count": 24,
   "id": "0dea6c8b",
   "metadata": {},
   "outputs": [
    {
     "data": {
      "image/png": "[encoded data removed]",
      "text/plain": [
       "<Figure size 432x288 with 1 Axes>"
      ]
     },
     "metadata": {},
     "output_type": "display_data"
    }
   ],
   "source": [
    "sns.boxplot(x=car_Zscore['tax'], color='lime')\n",
    "plt.xlabel('tax (After Using Z Score)', fontsize=14)\n",
    "plt.show()"
   ]
  },
  {
   "cell_type": "markdown",
   "id": "5a37a44b",
   "metadata": {},
   "source": [
    "Insight: Variable tax sudah tidak memiliki outliers. Pajak tertinggi menjadi sekitar 300"
   ]
  },
  {
   "cell_type": "markdown",
   "id": "cb708528",
   "metadata": {},
   "source": [
    "#### Data mpg"
   ]
  },
  {
   "cell_type": "code",
   "execution_count": 25,
   "id": "80537349",
   "metadata": {},
   "outputs": [
    {
     "data": {
      "image/png": "[encoded data removed]",
      "text/plain": [
       "<Figure size 432x288 with 1 Axes>"
      ]
     },
     "metadata": {},
     "output_type": "display_data"
    }
   ],
   "source": [
    "sns.boxplot(x=car_Zscore['mpg'], color='lime')\n",
    "plt.xlabel('mpg (After Using Z Score)', fontsize=14)\n",
    "plt.show()"
   ]
  },
  {
   "cell_type": "markdown",
   "id": "1618c6d3",
   "metadata": {},
   "source": [
    "Insight: Untuk mpg-nya sendiri, outliers yang begitu banyak dihilangkan dan dapat dilihat bahwa untuk jarak tempuh mobil dalam 1 galon bahan bakar kebanyakan dikisaran 25 sampai 83"
   ]
  },
  {
   "cell_type": "markdown",
   "id": "45ccdce6",
   "metadata": {},
   "source": [
    "#### Data EngineSize"
   ]
  },
  {
   "cell_type": "code",
   "execution_count": 26,
   "id": "f6a3715f",
   "metadata": {},
   "outputs": [
    {
     "data": {
      "image/png": "[encoded data removed]",
      "text/plain": [
       "<Figure size 432x288 with 1 Axes>"
      ]
     },
     "metadata": {},
     "output_type": "display_data"
    }
   ],
   "source": [
    "sns.boxplot(x=car_Zscore['engineSize'], color='lime')\n",
    "plt.xlabel('engineSize (After Using Z Score)', fontsize=14)\n",
    "plt.show()"
   ]
  },
  {
   "cell_type": "markdown",
   "id": "25ce2edf",
   "metadata": {},
   "source": [
    "Insight: Pada data enginesize sudah tidak ada outliers dengan rentang 0-3.0"
   ]
  },
  {
   "cell_type": "code",
   "execution_count": 27,
   "id": "064bfd49",
   "metadata": {},
   "outputs": [
    {
     "data": {
      "text/html": [
       "<div>\n",
       "<style scoped>\n",
       "    .dataframe tbody tr th:only-of-type {\n",
       "        vertical-align: middle;\n",
       "    }\n",
       "\n",
       "    .dataframe tbody tr th {\n",
       "        vertical-align: top;\n",
       "    }\n",
       "\n",
       "    .dataframe thead th {\n",
       "        text-align: right;\n",
       "    }\n",
       "</style>\n",
       "<table border=\"1\" class=\"dataframe\">\n",
       "  <thead>\n",
       "    <tr style=\"text-align: right;\">\n",
       "      <th></th>\n",
       "      <th>year</th>\n",
       "      <th>price</th>\n",
       "      <th>mileage</th>\n",
       "      <th>tax</th>\n",
       "      <th>mpg</th>\n",
       "      <th>engineSize</th>\n",
       "    </tr>\n",
       "  </thead>\n",
       "  <tbody>\n",
       "    <tr>\n",
       "      <th>count</th>\n",
       "      <td>67982.000000</td>\n",
       "      <td>67982.000000</td>\n",
       "      <td>67982.000000</td>\n",
       "      <td>67982.000000</td>\n",
       "      <td>67982.000000</td>\n",
       "      <td>67982.000000</td>\n",
       "    </tr>\n",
       "    <tr>\n",
       "      <th>mean</th>\n",
       "      <td>2017.187403</td>\n",
       "      <td>16003.969977</td>\n",
       "      <td>21788.280751</td>\n",
       "      <td>115.073549</td>\n",
       "      <td>55.616859</td>\n",
       "      <td>1.597070</td>\n",
       "    </tr>\n",
       "    <tr>\n",
       "      <th>std</th>\n",
       "      <td>1.761189</td>\n",
       "      <td>7430.214319</td>\n",
       "      <td>17963.631010</td>\n",
       "      <td>60.556386</td>\n",
       "      <td>10.936163</td>\n",
       "      <td>0.506611</td>\n",
       "    </tr>\n",
       "    <tr>\n",
       "      <th>min</th>\n",
       "      <td>2011.000000</td>\n",
       "      <td>2395.000000</td>\n",
       "      <td>1.000000</td>\n",
       "      <td>0.000000</td>\n",
       "      <td>5.500000</td>\n",
       "      <td>0.000000</td>\n",
       "    </tr>\n",
       "    <tr>\n",
       "      <th>25%</th>\n",
       "      <td>2016.000000</td>\n",
       "      <td>10298.000000</td>\n",
       "      <td>7445.000000</td>\n",
       "      <td>30.000000</td>\n",
       "      <td>47.900000</td>\n",
       "      <td>1.200000</td>\n",
       "    </tr>\n",
       "    <tr>\n",
       "      <th>50%</th>\n",
       "      <td>2017.000000</td>\n",
       "      <td>14463.000000</td>\n",
       "      <td>17411.000000</td>\n",
       "      <td>145.000000</td>\n",
       "      <td>56.500000</td>\n",
       "      <td>1.500000</td>\n",
       "    </tr>\n",
       "    <tr>\n",
       "      <th>75%</th>\n",
       "      <td>2019.000000</td>\n",
       "      <td>19995.000000</td>\n",
       "      <td>31501.000000</td>\n",
       "      <td>145.000000</td>\n",
       "      <td>62.800000</td>\n",
       "      <td>2.000000</td>\n",
       "    </tr>\n",
       "    <tr>\n",
       "      <th>max</th>\n",
       "      <td>2020.000000</td>\n",
       "      <td>44320.000000</td>\n",
       "      <td>87000.000000</td>\n",
       "      <td>305.000000</td>\n",
       "      <td>94.100000</td>\n",
       "      <td>3.000000</td>\n",
       "    </tr>\n",
       "  </tbody>\n",
       "</table>\n",
       "</div>"
      ],
      "text/plain": [
       "               year         price       mileage           tax           mpg  \\\n",
       "count  67982.000000  67982.000000  67982.000000  67982.000000  67982.000000   \n",
       "mean    2017.187403  16003.969977  21788.280751    115.073549     55.616859   \n",
       "std        1.761189   7430.214319  17963.631010     60.556386     10.936163   \n",
       "min     2011.000000   2395.000000      1.000000      0.000000      5.500000   \n",
       "25%     2016.000000  10298.000000   7445.000000     30.000000     47.900000   \n",
       "50%     2017.000000  14463.000000  17411.000000    145.000000     56.500000   \n",
       "75%     2019.000000  19995.000000  31501.000000    145.000000     62.800000   \n",
       "max     2020.000000  44320.000000  87000.000000    305.000000     94.100000   \n",
       "\n",
       "         engineSize  \n",
       "count  67982.000000  \n",
       "mean       1.597070  \n",
       "std        0.506611  \n",
       "min        0.000000  \n",
       "25%        1.200000  \n",
       "50%        1.500000  \n",
       "75%        2.000000  \n",
       "max        3.000000  "
      ]
     },
     "execution_count": 27,
     "metadata": {},
     "output_type": "execute_result"
    }
   ],
   "source": [
    "car_Zscore.describe()"
   ]
  },
  {
   "cell_type": "code",
   "execution_count": 28,
   "id": "e8a21252",
   "metadata": {},
   "outputs": [
    {
     "data": {
      "text/html": [
       "<div>\n",
       "<style scoped>\n",
       "    .dataframe tbody tr th:only-of-type {\n",
       "        vertical-align: middle;\n",
       "    }\n",
       "\n",
       "    .dataframe tbody tr th {\n",
       "        vertical-align: top;\n",
       "    }\n",
       "\n",
       "    .dataframe thead th {\n",
       "        text-align: right;\n",
       "    }\n",
       "</style>\n",
       "<table border=\"1\" class=\"dataframe\">\n",
       "  <thead>\n",
       "    <tr style=\"text-align: right;\">\n",
       "      <th></th>\n",
       "      <th>model</th>\n",
       "      <th>year</th>\n",
       "      <th>price</th>\n",
       "      <th>transmission</th>\n",
       "      <th>mileage</th>\n",
       "      <th>fuelType</th>\n",
       "      <th>tax</th>\n",
       "      <th>mpg</th>\n",
       "      <th>engineSize</th>\n",
       "      <th>Make</th>\n",
       "    </tr>\n",
       "  </thead>\n",
       "  <tbody>\n",
       "    <tr>\n",
       "      <th>count</th>\n",
       "      <td>67982</td>\n",
       "      <td>67982.000000</td>\n",
       "      <td>67982.000000</td>\n",
       "      <td>67982</td>\n",
       "      <td>67982.000000</td>\n",
       "      <td>67982</td>\n",
       "      <td>67982.000000</td>\n",
       "      <td>67982.000000</td>\n",
       "      <td>67982.000000</td>\n",
       "      <td>67982</td>\n",
       "    </tr>\n",
       "    <tr>\n",
       "      <th>unique</th>\n",
       "      <td>121</td>\n",
       "      <td>NaN</td>\n",
       "      <td>NaN</td>\n",
       "      <td>4</td>\n",
       "      <td>NaN</td>\n",
       "      <td>5</td>\n",
       "      <td>NaN</td>\n",
       "      <td>NaN</td>\n",
       "      <td>NaN</td>\n",
       "      <td>7</td>\n",
       "    </tr>\n",
       "    <tr>\n",
       "      <th>top</th>\n",
       "      <td>Fiesta</td>\n",
       "      <td>NaN</td>\n",
       "      <td>NaN</td>\n",
       "      <td>Manual</td>\n",
       "      <td>NaN</td>\n",
       "      <td>Petrol</td>\n",
       "      <td>NaN</td>\n",
       "      <td>NaN</td>\n",
       "      <td>NaN</td>\n",
       "      <td>Ford</td>\n",
       "    </tr>\n",
       "    <tr>\n",
       "      <th>freq</th>\n",
       "      <td>6407</td>\n",
       "      <td>NaN</td>\n",
       "      <td>NaN</td>\n",
       "      <td>41211</td>\n",
       "      <td>NaN</td>\n",
       "      <td>38705</td>\n",
       "      <td>NaN</td>\n",
       "      <td>NaN</td>\n",
       "      <td>NaN</td>\n",
       "      <td>17325</td>\n",
       "    </tr>\n",
       "    <tr>\n",
       "      <th>mean</th>\n",
       "      <td>NaN</td>\n",
       "      <td>2017.187403</td>\n",
       "      <td>16003.969977</td>\n",
       "      <td>NaN</td>\n",
       "      <td>21788.280751</td>\n",
       "      <td>NaN</td>\n",
       "      <td>115.073549</td>\n",
       "      <td>55.616859</td>\n",
       "      <td>1.597070</td>\n",
       "      <td>NaN</td>\n",
       "    </tr>\n",
       "    <tr>\n",
       "      <th>std</th>\n",
       "      <td>NaN</td>\n",
       "      <td>1.761189</td>\n",
       "      <td>7430.214319</td>\n",
       "      <td>NaN</td>\n",
       "      <td>17963.631010</td>\n",
       "      <td>NaN</td>\n",
       "      <td>60.556386</td>\n",
       "      <td>10.936163</td>\n",
       "      <td>0.506611</td>\n",
       "      <td>NaN</td>\n",
       "    </tr>\n",
       "    <tr>\n",
       "      <th>min</th>\n",
       "      <td>NaN</td>\n",
       "      <td>2011.000000</td>\n",
       "      <td>2395.000000</td>\n",
       "      <td>NaN</td>\n",
       "      <td>1.000000</td>\n",
       "      <td>NaN</td>\n",
       "      <td>0.000000</td>\n",
       "      <td>5.500000</td>\n",
       "      <td>0.000000</td>\n",
       "      <td>NaN</td>\n",
       "    </tr>\n",
       "    <tr>\n",
       "      <th>25%</th>\n",
       "      <td>NaN</td>\n",
       "      <td>2016.000000</td>\n",
       "      <td>10298.000000</td>\n",
       "      <td>NaN</td>\n",
       "      <td>7445.000000</td>\n",
       "      <td>NaN</td>\n",
       "      <td>30.000000</td>\n",
       "      <td>47.900000</td>\n",
       "      <td>1.200000</td>\n",
       "      <td>NaN</td>\n",
       "    </tr>\n",
       "    <tr>\n",
       "      <th>50%</th>\n",
       "      <td>NaN</td>\n",
       "      <td>2017.000000</td>\n",
       "      <td>14463.000000</td>\n",
       "      <td>NaN</td>\n",
       "      <td>17411.000000</td>\n",
       "      <td>NaN</td>\n",
       "      <td>145.000000</td>\n",
       "      <td>56.500000</td>\n",
       "      <td>1.500000</td>\n",
       "      <td>NaN</td>\n",
       "    </tr>\n",
       "    <tr>\n",
       "      <th>75%</th>\n",
       "      <td>NaN</td>\n",
       "      <td>2019.000000</td>\n",
       "      <td>19995.000000</td>\n",
       "      <td>NaN</td>\n",
       "      <td>31501.000000</td>\n",
       "      <td>NaN</td>\n",
       "      <td>145.000000</td>\n",
       "      <td>62.800000</td>\n",
       "      <td>2.000000</td>\n",
       "      <td>NaN</td>\n",
       "    </tr>\n",
       "    <tr>\n",
       "      <th>max</th>\n",
       "      <td>NaN</td>\n",
       "      <td>2020.000000</td>\n",
       "      <td>44320.000000</td>\n",
       "      <td>NaN</td>\n",
       "      <td>87000.000000</td>\n",
       "      <td>NaN</td>\n",
       "      <td>305.000000</td>\n",
       "      <td>94.100000</td>\n",
       "      <td>3.000000</td>\n",
       "      <td>NaN</td>\n",
       "    </tr>\n",
       "  </tbody>\n",
       "</table>\n",
       "</div>"
      ],
      "text/plain": [
       "          model          year         price transmission       mileage  \\\n",
       "count     67982  67982.000000  67982.000000        67982  67982.000000   \n",
       "unique      121           NaN           NaN            4           NaN   \n",
       "top      Fiesta           NaN           NaN       Manual           NaN   \n",
       "freq       6407           NaN           NaN        41211           NaN   \n",
       "mean        NaN   2017.187403  16003.969977          NaN  21788.280751   \n",
       "std         NaN      1.761189   7430.214319          NaN  17963.631010   \n",
       "min         NaN   2011.000000   2395.000000          NaN      1.000000   \n",
       "25%         NaN   2016.000000  10298.000000          NaN   7445.000000   \n",
       "50%         NaN   2017.000000  14463.000000          NaN  17411.000000   \n",
       "75%         NaN   2019.000000  19995.000000          NaN  31501.000000   \n",
       "max         NaN   2020.000000  44320.000000          NaN  87000.000000   \n",
       "\n",
       "       fuelType           tax           mpg    engineSize   Make  \n",
       "count     67982  67982.000000  67982.000000  67982.000000  67982  \n",
       "unique        5           NaN           NaN           NaN      7  \n",
       "top      Petrol           NaN           NaN           NaN   Ford  \n",
       "freq      38705           NaN           NaN           NaN  17325  \n",
       "mean        NaN    115.073549     55.616859      1.597070    NaN  \n",
       "std         NaN     60.556386     10.936163      0.506611    NaN  \n",
       "min         NaN      0.000000      5.500000      0.000000    NaN  \n",
       "25%         NaN     30.000000     47.900000      1.200000    NaN  \n",
       "50%         NaN    145.000000     56.500000      1.500000    NaN  \n",
       "75%         NaN    145.000000     62.800000      2.000000    NaN  \n",
       "max         NaN    305.000000     94.100000      3.000000    NaN  "
      ]
     },
     "execution_count": 28,
     "metadata": {},
     "output_type": "execute_result"
    }
   ],
   "source": [
    "car_normal = pd.concat([car_no_dupl, car_Zscore], axis=1, join='inner')\n",
    "car_normal = car_normal.loc[:, ~car_normal.columns.duplicated()]\n",
    "car_normal.describe(include='all')"
   ]
  },
  {
   "cell_type": "markdown",
   "id": "2d3b862d",
   "metadata": {},
   "source": [
    "# Korelasi Numerikal"
   ]
  },
  {
   "cell_type": "code",
   "execution_count": 29,
   "id": "569edceb",
   "metadata": {},
   "outputs": [],
   "source": [
    "def correlation_2variables(x, y):\n",
    "    plt.figure(figsize=[10,5])\n",
    "    plt.scatter(x, y);\n",
    "    print('pearson: ', stats.pearsonr(x, y))\n",
    "    print('spearman: ', stats.spearmanr(x, y))"
   ]
  },
  {
   "cell_type": "markdown",
   "id": "58bd42e3",
   "metadata": {},
   "source": [
    "Pada bagian ini kita akan menentukan korelasi antar setiap variabel numerik,korelasi yang mau kita terapkan yaitu korelasi pearson dan korelasi spearman"
   ]
  },
  {
   "cell_type": "markdown",
   "id": "689c1662",
   "metadata": {},
   "source": [
    "### year & price"
   ]
  },
  {
   "cell_type": "code",
   "execution_count": 30,
   "id": "76d537f6",
   "metadata": {
    "scrolled": false
   },
   "outputs": [
    {
     "name": "stdout",
     "output_type": "stream",
     "text": [
      "pearson:  (0.5680897945928591, 0.0)\n",
      "spearman:  SpearmanrResult(correlation=0.5933535894623184, pvalue=0.0)\n"
     ]
    },
    {
     "data": {
      "image/png": "[encoded data removed]",
      "text/plain": [
       "<Figure size 720x360 with 1 Axes>"
      ]
     },
     "metadata": {},
     "output_type": "display_data"
    }
   ],
   "source": [
    "correlation_2variables(car_normal['year'], car_normal['price'])"
   ]
  },
  {
   "cell_type": "markdown",
   "id": "9b29a8c6",
   "metadata": {},
   "source": [
    "Insight: Pada grafik di atas bisa dilihat harga jual mobil setiap tahunnya menaik dari tahun 2011 hingga tahun 2020. Pada tahun 2020 harga mobil paling rendah mendekati 10000 dollar. Dilihat dari korelasinya, korelasi bernilai positif dengan nilai spearman lebih besar sehingga kemungkinan korelasi tersebut monoton naik."
   ]
  },
  {
   "cell_type": "markdown",
   "id": "4bc36570",
   "metadata": {},
   "source": [
    "### year & mileage"
   ]
  },
  {
   "cell_type": "code",
   "execution_count": 31,
   "id": "de115664",
   "metadata": {},
   "outputs": [
    {
     "name": "stdout",
     "output_type": "stream",
     "text": [
      "pearson:  (-0.7446719247121887, 0.0)\n",
      "spearman:  SpearmanrResult(correlation=-0.8016704842634652, pvalue=0.0)\n"
     ]
    },
    {
     "data": {
      "image/png": "[encoded data removed]",
      "text/plain": [
       "<Figure size 720x360 with 1 Axes>"
      ]
     },
     "metadata": {},
     "output_type": "display_data"
    }
   ],
   "source": [
    "correlation_2variables(car_normal['year'], car_normal['mileage'])"
   ]
  },
  {
   "cell_type": "markdown",
   "id": "9de43208",
   "metadata": {},
   "source": [
    "Insight: Pada grafik di atas ini, bisa dilihat bahwa jarak tempuh suatu mobil untuk setiap tahunnya menurun dari tahun 2011 hingga tahun 2020. Pada tahun 2020 kilometer mobil bekas berkisar 30000 miles kebawah yang artinya lebih sedikit digunakan karena relatif termasuk mobil yang memiliki tahun lebih baru. Korelasi menggunakan nilai spearman dengan arah negatif sehingga korelasi tersebut monoton turun."
   ]
  },
  {
   "cell_type": "markdown",
   "id": "f2bd9b14",
   "metadata": {},
   "source": [
    "### year & tax"
   ]
  },
  {
   "cell_type": "code",
   "execution_count": 32,
   "id": "7ed7ad0e",
   "metadata": {
    "scrolled": false
   },
   "outputs": [
    {
     "name": "stdout",
     "output_type": "stream",
     "text": [
      "pearson:  (0.42973208962252574, 0.0)\n",
      "spearman:  SpearmanrResult(correlation=0.3986919903391583, pvalue=0.0)\n"
     ]
    },
    {
     "data": {
      "image/png": "[encoded data removed]",
      "text/plain": [
       "<Figure size 720x360 with 1 Axes>"
      ]
     },
     "metadata": {},
     "output_type": "display_data"
    }
   ],
   "source": [
    "correlation_2variables(car_normal['year'], car_normal['tax'])"
   ]
  },
  {
   "cell_type": "markdown",
   "id": "99e1e0b3",
   "metadata": {},
   "source": [
    "Insight: Pada grafik di atas, bisa tarik kesimpulan bahwa pajak suatu mobil untuk setiap tahunnya lebih mahal, dan signifikan berubah pada tahun 2018 yang dimana pajak paling banyak berkisar pada 150 dollar. Dilihat dari nilai pearsonnya, korelasi yang dihasilkan linier naik."
   ]
  },
  {
   "cell_type": "markdown",
   "id": "7a13b675",
   "metadata": {},
   "source": [
    "### year & mpg"
   ]
  },
  {
   "cell_type": "code",
   "execution_count": 33,
   "id": "1b426c7e",
   "metadata": {},
   "outputs": [
    {
     "name": "stdout",
     "output_type": "stream",
     "text": [
      "pearson:  (-0.3201593128119157, 0.0)\n",
      "spearman:  SpearmanrResult(correlation=-0.3746411092800368, pvalue=0.0)\n"
     ]
    },
    {
     "data": {
      "image/png": "[encoded data removed]",
      "text/plain": [
       "<Figure size 720x360 with 1 Axes>"
      ]
     },
     "metadata": {},
     "output_type": "display_data"
    }
   ],
   "source": [
    "correlation_2variables(car_normal['year'], car_normal['mpg'])"
   ]
  },
  {
   "cell_type": "markdown",
   "id": "cacee345",
   "metadata": {},
   "source": [
    "Insight: Pada grafik di atas, bisa dilihat bahwa jarak tempuh dengan bahan bakar 1 galon pada mobil untuk setiap tahunnya mengalami sedikit kenaikan dari tahun 2011 hingga tahun 2017 dan mengalami penurunan pada tahun 2018 hingga 2020 dan bisa terlihat dari nilai spearmannya, korelasi berupa monoton turun."
   ]
  },
  {
   "cell_type": "markdown",
   "id": "21ce3907",
   "metadata": {},
   "source": [
    "### year & engineSize"
   ]
  },
  {
   "cell_type": "code",
   "execution_count": 34,
   "id": "9bd92e26",
   "metadata": {},
   "outputs": [
    {
     "name": "stdout",
     "output_type": "stream",
     "text": [
      "pearson:  (-0.037902270454748976, 4.799026856099128e-23)\n",
      "spearman:  SpearmanrResult(correlation=-0.024713693581281247, pvalue=1.1593967347716728e-10)\n"
     ]
    },
    {
     "data": {
      "image/png": "[encoded data removed]",
      "text/plain": [
       "<Figure size 720x360 with 1 Axes>"
      ]
     },
     "metadata": {},
     "output_type": "display_data"
    }
   ],
   "source": [
    "correlation_2variables(car_normal['year'], car_normal['engineSize'])"
   ]
  },
  {
   "cell_type": "markdown",
   "id": "b0e7487f",
   "metadata": {},
   "source": [
    "Insight: Pada grafik di atas, bisa dilihat bahwa ukuran mesin pada mobil sama sama saja untuk setiap tahunnya. Dilihat dari kedua nilai pearson dan nilai spearman yang sangat kecil mendekati 0, korelasi dari kedua variable hampir tidak ada."
   ]
  },
  {
   "cell_type": "markdown",
   "id": "defd1fec",
   "metadata": {},
   "source": [
    "### price & mileage"
   ]
  },
  {
   "cell_type": "code",
   "execution_count": 35,
   "id": "1519a7bf",
   "metadata": {},
   "outputs": [
    {
     "name": "stdout",
     "output_type": "stream",
     "text": [
      "pearson:  (-0.44386862955040945, 0.0)\n",
      "spearman:  SpearmanrResult(correlation=-0.49099270227904135, pvalue=0.0)\n"
     ]
    },
    {
     "data": {
      "image/png": "[encoded data removed]",
      "text/plain": [
       "<Figure size 720x360 with 1 Axes>"
      ]
     },
     "metadata": {},
     "output_type": "display_data"
    }
   ],
   "source": [
    "correlation_2variables(car_normal['price'], car_normal['mileage'])"
   ]
  },
  {
   "cell_type": "markdown",
   "id": "7f70558b",
   "metadata": {},
   "source": [
    "Insight: Pada grafik diatas, bisa dilihat bahwa semakin banyak jarak tempuk suatu mobil maka harga jualnya pun akan murah, tetapi bila jarak tempuh suatu mobil sedikit maka harga jualnya pun mahal. Bisa dilihat dari nilai spearman, korelasinya monoton turun."
   ]
  },
  {
   "cell_type": "markdown",
   "id": "571e6fac",
   "metadata": {},
   "source": [
    "### price & tax"
   ]
  },
  {
   "cell_type": "code",
   "execution_count": 36,
   "id": "27dfa47f",
   "metadata": {},
   "outputs": [
    {
     "name": "stdout",
     "output_type": "stream",
     "text": [
      "pearson:  (0.4298824536653344, 0.0)\n",
      "spearman:  SpearmanrResult(correlation=0.4140535406297251, pvalue=0.0)\n"
     ]
    },
    {
     "data": {
      "image/png": "[encoded data removed]",
      "text/plain": [
       "<Figure size 720x360 with 1 Axes>"
      ]
     },
     "metadata": {},
     "output_type": "display_data"
    }
   ],
   "source": [
    "correlation_2variables(car_normal['price'], car_normal['tax'])"
   ]
  },
  {
   "cell_type": "markdown",
   "id": "7060e311",
   "metadata": {},
   "source": [
    "Insight: Pada grafik di atas, bisa dilihat kebanyakan pajak dikisaran 150 atau bisa dikatakan tetap walaupun harga jual mobil meningkat. Jika dilihat dari nilai pearson, korelasinya linier naik."
   ]
  },
  {
   "cell_type": "markdown",
   "id": "14904f7f",
   "metadata": {},
   "source": [
    "### price & mpg"
   ]
  },
  {
   "cell_type": "code",
   "execution_count": 37,
   "id": "ef885bf5",
   "metadata": {},
   "outputs": [
    {
     "name": "stdout",
     "output_type": "stream",
     "text": [
      "pearson:  (-0.5535601959437887, 0.0)\n",
      "spearman:  SpearmanrResult(correlation=-0.5415217021316345, pvalue=0.0)\n"
     ]
    },
    {
     "data": {
      "image/png": "[encoded data removed]",
      "text/plain": [
       "<Figure size 720x360 with 1 Axes>"
      ]
     },
     "metadata": {},
     "output_type": "display_data"
    }
   ],
   "source": [
    "correlation_2variables(car_normal['price'], car_normal['mpg'])"
   ]
  },
  {
   "cell_type": "markdown",
   "id": "fec7ec96",
   "metadata": {},
   "source": [
    "Insight: Pada grafik di atas, bisa dilihat bahwa mpg mobil semakin berkurang sesuai harga yang semakin meningkat dan dilihat dari nilai pearson, korelasinya linier turun."
   ]
  },
  {
   "cell_type": "markdown",
   "id": "c319259d",
   "metadata": {},
   "source": [
    "### price & engineSize"
   ]
  },
  {
   "cell_type": "code",
   "execution_count": 38,
   "id": "71437e31",
   "metadata": {},
   "outputs": [
    {
     "name": "stdout",
     "output_type": "stream",
     "text": [
      "pearson:  (0.6019871055340733, 0.0)\n",
      "spearman:  SpearmanrResult(correlation=0.601407335849138, pvalue=0.0)\n"
     ]
    },
    {
     "data": {
      "image/png": "[encoded data removed]",
      "text/plain": [
       "<Figure size 720x360 with 1 Axes>"
      ]
     },
     "metadata": {},
     "output_type": "display_data"
    }
   ],
   "source": [
    "correlation_2variables(car_normal['price'], car_normal['engineSize'])"
   ]
  },
  {
   "cell_type": "markdown",
   "id": "589723b0",
   "metadata": {},
   "source": [
    "Insight: Pada grafik di atas, bisa dilihat bahwa ukuran mesin pada mobil semakin kecil maka harga jual mobil pun semakin murah apabila ukuran mesin besar maka harga jual mobil pun semakin mahal. Mobil bermesin 3.0 atau 3000cc memiliki harga paling murah di kisaran 10000 dollar sedangkan mobil dengan kapasitas 2000cc kebawah ada yang memiliki harga dibawah 10000 dollar, bisa terlihat dari nilai pearson, korelasinya linier naik."
   ]
  },
  {
   "cell_type": "markdown",
   "id": "61dc1de4",
   "metadata": {},
   "source": [
    "### mileage & tax"
   ]
  },
  {
   "cell_type": "code",
   "execution_count": 39,
   "id": "03eeb4ef",
   "metadata": {},
   "outputs": [
    {
     "name": "stdout",
     "output_type": "stream",
     "text": [
      "pearson:  (-0.33778411307248624, 0.0)\n",
      "spearman:  SpearmanrResult(correlation=-0.2988414898972668, pvalue=0.0)\n"
     ]
    },
    {
     "data": {
      "image/png": "[encoded data removed]",
      "text/plain": [
       "<Figure size 720x360 with 1 Axes>"
      ]
     },
     "metadata": {},
     "output_type": "display_data"
    }
   ],
   "source": [
    "correlation_2variables(car_normal['mileage'], car_normal['tax'])"
   ]
  },
  {
   "cell_type": "markdown",
   "id": "63981759",
   "metadata": {},
   "source": [
    "Insight: Pada grafik diatas, bisa dilihat bahwa kebanyakan pajak berkisaran paling banyak di nilai 150 atau bisa dikatakan nilainya tetap walaupun jarak tempuh mobil semakin banyak karena pajak mobil bergantung dari harganya dan tidak dipengaruhi oleh banyaknya kilometer. Tetapi dilihat dari korelasi pearson, hubungan kedua variable linier turun."
   ]
  },
  {
   "cell_type": "markdown",
   "id": "6d3a6532",
   "metadata": {},
   "source": [
    "### mileage & mpg"
   ]
  },
  {
   "cell_type": "code",
   "execution_count": 40,
   "id": "de0ae278",
   "metadata": {},
   "outputs": [
    {
     "name": "stdout",
     "output_type": "stream",
     "text": [
      "pearson:  (0.31115527013259414, 0.0)\n",
      "spearman:  SpearmanrResult(correlation=0.3651643712282985, pvalue=0.0)\n"
     ]
    },
    {
     "data": {
      "image/png": "[encoded data removed]",
      "text/plain": [
       "<Figure size 720x360 with 1 Axes>"
      ]
     },
     "metadata": {},
     "output_type": "display_data"
    }
   ],
   "source": [
    "correlation_2variables(car_normal['mileage'], car_normal['mpg'])"
   ]
  },
  {
   "cell_type": "markdown",
   "id": "d1696993",
   "metadata": {},
   "source": [
    "Insight: Pada grafik diatas, bisa dilihat bahwa kisaran paling banyak ada di jarak tempuh angka 0 hingga 60000 dan juga mpg paling banyak di kisaran 30 - 80. Bisa dilihat dari nilai spearman, korelasinya monoton naik."
   ]
  },
  {
   "cell_type": "markdown",
   "id": "08105374",
   "metadata": {},
   "source": [
    "### mileage & engineSize"
   ]
  },
  {
   "cell_type": "code",
   "execution_count": 41,
   "id": "15732d7c",
   "metadata": {},
   "outputs": [
    {
     "name": "stdout",
     "output_type": "stream",
     "text": [
      "pearson:  (0.15167536014073785, 0.0)\n",
      "spearman:  SpearmanrResult(correlation=0.10798336692187946, pvalue=2.0576134079413581e-175)\n"
     ]
    },
    {
     "data": {
      "image/png": "[encoded data removed]",
      "text/plain": [
       "<Figure size 720x360 with 1 Axes>"
      ]
     },
     "metadata": {},
     "output_type": "display_data"
    }
   ],
   "source": [
    "correlation_2variables(car_normal['mileage'], car_normal['engineSize'])"
   ]
  },
  {
   "cell_type": "markdown",
   "id": "65dc1e8b",
   "metadata": {},
   "source": [
    "Insight: Pada grafik diatas, bisa dilihat bahwa ukuran mesin paling banyak ada di kisaran 1.0 hingga 1.8 atau bisa dikatakan nilainya tetap walaupun jarak tempuh yang semakin banyak. Hal ini menunjukkan mobil yang paling banyak dan sering digunakan adalah mobil dengan kapasitas mesin sebesar 1000cc hingga 1800cc. Dilihat dari korelasi pearson, hubungannya linier naik."
   ]
  },
  {
   "cell_type": "markdown",
   "id": "6654c8ea",
   "metadata": {},
   "source": [
    "### tax & mpg"
   ]
  },
  {
   "cell_type": "code",
   "execution_count": 42,
   "id": "dfdc0a19",
   "metadata": {},
   "outputs": [
    {
     "name": "stdout",
     "output_type": "stream",
     "text": [
      "pearson:  (-0.5777088616928032, 0.0)\n",
      "spearman:  SpearmanrResult(correlation=-0.5621195802029815, pvalue=0.0)\n"
     ]
    },
    {
     "data": {
      "image/png": "[encoded data removed]",
      "text/plain": [
       "<Figure size 720x360 with 1 Axes>"
      ]
     },
     "metadata": {},
     "output_type": "display_data"
    }
   ],
   "source": [
    "correlation_2variables(car_normal['tax'], car_normal['mpg'])"
   ]
  },
  {
   "cell_type": "markdown",
   "id": "49924c8e",
   "metadata": {},
   "source": [
    "Insight: Pada grafik diatas, bisa dilihat bahwa mpg suatu mobil paling banyak ada dikisaran 30 hingga 80 dengan nilai pajak 150 dan dilihat dari nilai pearson, korelasinya linier turun."
   ]
  },
  {
   "cell_type": "markdown",
   "id": "8ab25a58",
   "metadata": {},
   "source": [
    "### tax & engineSize"
   ]
  },
  {
   "cell_type": "code",
   "execution_count": 43,
   "id": "a3530cec",
   "metadata": {},
   "outputs": [
    {
     "name": "stdout",
     "output_type": "stream",
     "text": [
      "pearson:  (0.24964108092685502, 0.0)\n",
      "spearman:  SpearmanrResult(correlation=0.1991545683063113, pvalue=0.0)\n"
     ]
    },
    {
     "data": {
      "image/png": "[encoded data removed]",
      "text/plain": [
       "<Figure size 720x360 with 1 Axes>"
      ]
     },
     "metadata": {},
     "output_type": "display_data"
    }
   ],
   "source": [
    "correlation_2variables(car_normal['tax'], car_normal['engineSize'])"
   ]
  },
  {
   "cell_type": "markdown",
   "id": "bf0c71e5",
   "metadata": {},
   "source": [
    "Insight: Pada grafik diatas, bisa dilihat pajak suatu mobil paling banyak ada dikisaran 150 walaupun ukuran suatu mesin mobil semakin besar. Bisa dilihat dari nilai pearson, korelasinya linier naik."
   ]
  },
  {
   "cell_type": "markdown",
   "id": "8720673f",
   "metadata": {},
   "source": [
    "### mpg & engineSize"
   ]
  },
  {
   "cell_type": "code",
   "execution_count": 44,
   "id": "ab2ec356",
   "metadata": {
    "scrolled": false
   },
   "outputs": [
    {
     "name": "stdout",
     "output_type": "stream",
     "text": [
      "pearson:  (-0.29840144541393854, 0.0)\n",
      "spearman:  SpearmanrResult(correlation=-0.28311037724663085, pvalue=0.0)\n"
     ]
    },
    {
     "data": {
      "image/png": "[encoded data removed]",
      "text/plain": [
       "<Figure size 720x360 with 1 Axes>"
      ]
     },
     "metadata": {},
     "output_type": "display_data"
    }
   ],
   "source": [
    "correlation_2variables(car_normal['mpg'], car_normal['engineSize'])"
   ]
  },
  {
   "cell_type": "markdown",
   "id": "8ff914de",
   "metadata": {},
   "source": [
    "Insight: Pada grafik diatas, bisa dilihat bahwa ukuran mesin pada suatu mobil paling banyak ada pada kisaran 1.0 hingga 2.0 dengan mpg paling banyak ada dikisaran 30 hingga 70. Bisa dilihat dari nilai pearson, korelasi variablenya linier turun."
   ]
  },
  {
   "cell_type": "markdown",
   "id": "55d82b55",
   "metadata": {},
   "source": [
    "# Statistik Deskriptif"
   ]
  },
  {
   "cell_type": "code",
   "execution_count": 45,
   "id": "71e93463",
   "metadata": {
    "scrolled": true
   },
   "outputs": [
    {
     "data": {
      "text/html": [
       "<div>\n",
       "<style scoped>\n",
       "    .dataframe tbody tr th:only-of-type {\n",
       "        vertical-align: middle;\n",
       "    }\n",
       "\n",
       "    .dataframe tbody tr th {\n",
       "        vertical-align: top;\n",
       "    }\n",
       "\n",
       "    .dataframe thead th {\n",
       "        text-align: right;\n",
       "    }\n",
       "</style>\n",
       "<table border=\"1\" class=\"dataframe\">\n",
       "  <thead>\n",
       "    <tr style=\"text-align: right;\">\n",
       "      <th></th>\n",
       "      <th>model</th>\n",
       "      <th>year</th>\n",
       "      <th>price</th>\n",
       "      <th>transmission</th>\n",
       "      <th>mileage</th>\n",
       "      <th>fuelType</th>\n",
       "      <th>tax</th>\n",
       "      <th>mpg</th>\n",
       "      <th>engineSize</th>\n",
       "      <th>Make</th>\n",
       "    </tr>\n",
       "  </thead>\n",
       "  <tbody>\n",
       "    <tr>\n",
       "      <th>count</th>\n",
       "      <td>67982</td>\n",
       "      <td>67982.000000</td>\n",
       "      <td>67982.000000</td>\n",
       "      <td>67982</td>\n",
       "      <td>67982.000000</td>\n",
       "      <td>67982</td>\n",
       "      <td>67982.000000</td>\n",
       "      <td>67982.000000</td>\n",
       "      <td>67982.000000</td>\n",
       "      <td>67982</td>\n",
       "    </tr>\n",
       "    <tr>\n",
       "      <th>unique</th>\n",
       "      <td>121</td>\n",
       "      <td>NaN</td>\n",
       "      <td>NaN</td>\n",
       "      <td>4</td>\n",
       "      <td>NaN</td>\n",
       "      <td>5</td>\n",
       "      <td>NaN</td>\n",
       "      <td>NaN</td>\n",
       "      <td>NaN</td>\n",
       "      <td>7</td>\n",
       "    </tr>\n",
       "    <tr>\n",
       "      <th>top</th>\n",
       "      <td>Fiesta</td>\n",
       "      <td>NaN</td>\n",
       "      <td>NaN</td>\n",
       "      <td>Manual</td>\n",
       "      <td>NaN</td>\n",
       "      <td>Petrol</td>\n",
       "      <td>NaN</td>\n",
       "      <td>NaN</td>\n",
       "      <td>NaN</td>\n",
       "      <td>Ford</td>\n",
       "    </tr>\n",
       "    <tr>\n",
       "      <th>freq</th>\n",
       "      <td>6407</td>\n",
       "      <td>NaN</td>\n",
       "      <td>NaN</td>\n",
       "      <td>41211</td>\n",
       "      <td>NaN</td>\n",
       "      <td>38705</td>\n",
       "      <td>NaN</td>\n",
       "      <td>NaN</td>\n",
       "      <td>NaN</td>\n",
       "      <td>17325</td>\n",
       "    </tr>\n",
       "    <tr>\n",
       "      <th>mean</th>\n",
       "      <td>NaN</td>\n",
       "      <td>2017.187403</td>\n",
       "      <td>16003.969977</td>\n",
       "      <td>NaN</td>\n",
       "      <td>21788.280751</td>\n",
       "      <td>NaN</td>\n",
       "      <td>115.073549</td>\n",
       "      <td>55.616859</td>\n",
       "      <td>1.597070</td>\n",
       "      <td>NaN</td>\n",
       "    </tr>\n",
       "    <tr>\n",
       "      <th>std</th>\n",
       "      <td>NaN</td>\n",
       "      <td>1.761189</td>\n",
       "      <td>7430.214319</td>\n",
       "      <td>NaN</td>\n",
       "      <td>17963.631010</td>\n",
       "      <td>NaN</td>\n",
       "      <td>60.556386</td>\n",
       "      <td>10.936163</td>\n",
       "      <td>0.506611</td>\n",
       "      <td>NaN</td>\n",
       "    </tr>\n",
       "    <tr>\n",
       "      <th>min</th>\n",
       "      <td>NaN</td>\n",
       "      <td>2011.000000</td>\n",
       "      <td>2395.000000</td>\n",
       "      <td>NaN</td>\n",
       "      <td>1.000000</td>\n",
       "      <td>NaN</td>\n",
       "      <td>0.000000</td>\n",
       "      <td>5.500000</td>\n",
       "      <td>0.000000</td>\n",
       "      <td>NaN</td>\n",
       "    </tr>\n",
       "    <tr>\n",
       "      <th>25%</th>\n",
       "      <td>NaN</td>\n",
       "      <td>2016.000000</td>\n",
       "      <td>10298.000000</td>\n",
       "      <td>NaN</td>\n",
       "      <td>7445.000000</td>\n",
       "      <td>NaN</td>\n",
       "      <td>30.000000</td>\n",
       "      <td>47.900000</td>\n",
       "      <td>1.200000</td>\n",
       "      <td>NaN</td>\n",
       "    </tr>\n",
       "    <tr>\n",
       "      <th>50%</th>\n",
       "      <td>NaN</td>\n",
       "      <td>2017.000000</td>\n",
       "      <td>14463.000000</td>\n",
       "      <td>NaN</td>\n",
       "      <td>17411.000000</td>\n",
       "      <td>NaN</td>\n",
       "      <td>145.000000</td>\n",
       "      <td>56.500000</td>\n",
       "      <td>1.500000</td>\n",
       "      <td>NaN</td>\n",
       "    </tr>\n",
       "    <tr>\n",
       "      <th>75%</th>\n",
       "      <td>NaN</td>\n",
       "      <td>2019.000000</td>\n",
       "      <td>19995.000000</td>\n",
       "      <td>NaN</td>\n",
       "      <td>31501.000000</td>\n",
       "      <td>NaN</td>\n",
       "      <td>145.000000</td>\n",
       "      <td>62.800000</td>\n",
       "      <td>2.000000</td>\n",
       "      <td>NaN</td>\n",
       "    </tr>\n",
       "    <tr>\n",
       "      <th>max</th>\n",
       "      <td>NaN</td>\n",
       "      <td>2020.000000</td>\n",
       "      <td>44320.000000</td>\n",
       "      <td>NaN</td>\n",
       "      <td>87000.000000</td>\n",
       "      <td>NaN</td>\n",
       "      <td>305.000000</td>\n",
       "      <td>94.100000</td>\n",
       "      <td>3.000000</td>\n",
       "      <td>NaN</td>\n",
       "    </tr>\n",
       "  </tbody>\n",
       "</table>\n",
       "</div>"
      ],
      "text/plain": [
       "          model          year         price transmission       mileage  \\\n",
       "count     67982  67982.000000  67982.000000        67982  67982.000000   \n",
       "unique      121           NaN           NaN            4           NaN   \n",
       "top      Fiesta           NaN           NaN       Manual           NaN   \n",
       "freq       6407           NaN           NaN        41211           NaN   \n",
       "mean        NaN   2017.187403  16003.969977          NaN  21788.280751   \n",
       "std         NaN      1.761189   7430.214319          NaN  17963.631010   \n",
       "min         NaN   2011.000000   2395.000000          NaN      1.000000   \n",
       "25%         NaN   2016.000000  10298.000000          NaN   7445.000000   \n",
       "50%         NaN   2017.000000  14463.000000          NaN  17411.000000   \n",
       "75%         NaN   2019.000000  19995.000000          NaN  31501.000000   \n",
       "max         NaN   2020.000000  44320.000000          NaN  87000.000000   \n",
       "\n",
       "       fuelType           tax           mpg    engineSize   Make  \n",
       "count     67982  67982.000000  67982.000000  67982.000000  67982  \n",
       "unique        5           NaN           NaN           NaN      7  \n",
       "top      Petrol           NaN           NaN           NaN   Ford  \n",
       "freq      38705           NaN           NaN           NaN  17325  \n",
       "mean        NaN    115.073549     55.616859      1.597070    NaN  \n",
       "std         NaN     60.556386     10.936163      0.506611    NaN  \n",
       "min         NaN      0.000000      5.500000      0.000000    NaN  \n",
       "25%         NaN     30.000000     47.900000      1.200000    NaN  \n",
       "50%         NaN    145.000000     56.500000      1.500000    NaN  \n",
       "75%         NaN    145.000000     62.800000      2.000000    NaN  \n",
       "max         NaN    305.000000     94.100000      3.000000    NaN  "
      ]
     },
     "execution_count": 45,
     "metadata": {},
     "output_type": "execute_result"
    }
   ],
   "source": [
    "car_normal.describe(include='all')"
   ]
  },
  {
   "cell_type": "markdown",
   "id": "256eb10a",
   "metadata": {},
   "source": [
    "Insight: Total data yang terdapat pada dataset adalah 67982 data. Nilai rata2 untuk tahun kendaraan adalah 2017, harga kisaran 16000 dollar, kilometer sebanyak 21788 miles, besaran pajak 115, konsumsi bahan bakar 55 miles per gallon, dan kapasitas mesin 1500cc hingga 1600cc. Mobil tertua yang ada pada dataset ini memiliki tahun produksi 2011 dan terbaru yaitu 2020, harga termurah berkisar 2000 dollar dan termahal pada 44000 dollar, kilometer mobil terendah yaitu 1 miles alias mobil baru dan terbanyak berkisar 87000 miles, pajak mobil termurah yaitu 0 (electric car) dan termahal yaitu sebesar 305 dollar, mobil terhemat memiliki konsumsi 5.5 miles per gallon dan terboros pada 94 miles per gallon, kapasitas mesin terkecil yaitu 0cc (electric car) dan terbesar adalah 3000cc."
   ]
  },
  {
   "cell_type": "markdown",
   "id": "3cd309ca",
   "metadata": {},
   "source": [
    "## Sumber Penguat \n",
    "### Tax\n",
    "#### -- https://www.moneyhelper.org.uk/en/everyday-money/buying-and-running-a-car/car-tax-bands-explained ---2017\n",
    "#### --https://assets.publishing.service.gov.uk/government/uploads/system/uploads/attachment_data/file/175492/V149_rates_of_vehicle_tax.pdf"
   ]
  },
  {
   "cell_type": "markdown",
   "id": "e5bd40ec",
   "metadata": {},
   "source": [
    "# Prediksi"
   ]
  },
  {
   "cell_type": "markdown",
   "id": "e79ae433",
   "metadata": {},
   "source": [
    "### Prediksi akan dilakukan dengan cara regresi pada variable mpg.\n",
    "mpg/miles per gallon adalah satuan konsumsi bahan bakar mobil yang dalam 1 gallon bahan bakar dapat menempuh n miles. Hal ini penting karena banyaknya penggunaan dan berkurangnya sumber bahan bakar minyak menyebabkan peningkatan harga bahan bakar tersebut. Selain itu juga, kebanyakan konsumer, khususnya kelas menengah ke bawah, yang membeli mobil lebih memperhatikan biaya perawatannya, termasuk biaya bahan bakarnya. Walaupun sekarang telah hadir mobil yang berbahan bakar listrik, nyatanya listrik dari tempat pengisian mobil tersebut masih memerlukan bahan bakar lain seperti batu bara dann tempat pengisian tersebut masih jarang ditemui di jalan-jalan. Listrik yang diperlukan juga sangat besar untuk melakukan pengisian di rumah. Sehingga mendorong sebagian besar masyarakat menengah ke bawah untuk lebih memilih mobil yang memiliki efisiensi bahan bakar yang baik. Maka, penting untuk mengetahui berapa mpg yang dapat diperoleh dari suatu mobil yang akan dibeli."
   ]
  }
 ],
 "metadata": {
  "kernelspec": {
   "display_name": "Python 3 (ipykernel)",
   "language": "python",
   "name": "python3"
  },
  "language_info": {
   "codemirror_mode": {
    "name": "ipython",
    "version": 3
   },
   "file_extension": ".py",
   "mimetype": "text/x-python",
   "name": "python",
   "nbconvert_exporter": "python",
   "pygments_lexer": "ipython3",
   "version": "3.9.7"
  }
 },
 "nbformat": 4,
 "nbformat_minor": 5
}
